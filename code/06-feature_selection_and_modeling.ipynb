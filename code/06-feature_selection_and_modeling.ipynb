# ...existing code...

# Import necessary libraries for RFE and boosting
from sklearn.feature_selection import RFE
from sklearn.linear_model import LinearRegression
from sklearn.ensemble import GradientBoostingRegressor

# ...existing code...

# Feature selection using RFE
model = LinearRegression()
rfe = RFE(model, n_features_to_select=5)
fit = rfe.fit(X_train, y_train)

# Print selected features
print("Num Features: %s" % (fit.n_features_))
print("Selected Features: %s" % (fit.support_))
print("Feature Ranking: %s" % (fit.ranking_))

# ...existing code...

# Regression modeling with boosting
boosting_model = GradientBoostingRegressor(n_estimators=100, learning_rate=0.1, max_depth=3, random_state=0)
boosting_model.fit(X_train, y_train)

# Predict and evaluate the model
y_pred = boosting_model.predict(X_test)
print("Boosting Model R^2 Score: ", boosting_model.score(X_test, y_test))

# ...existing code...
