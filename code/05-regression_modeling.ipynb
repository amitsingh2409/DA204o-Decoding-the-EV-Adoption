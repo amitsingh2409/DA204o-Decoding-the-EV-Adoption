{
 "cells": [
  {
   "cell_type": "markdown",
   "metadata": {
    "id": "Q4_L8GgLLZl5"
   },
   "source": [
    "Step 1: Import Required Libraries"
   ]
  },
  {
   "cell_type": "code",
   "execution_count": 1,
   "metadata": {
    "executionInfo": {
     "elapsed": 5873,
     "status": "ok",
     "timestamp": 1731740626438,
     "user": {
      "displayName": "Shubham Yadav",
      "userId": "12982005697369295270"
     },
     "user_tz": -330
    },
    "id": "iLtZEH7SLaip"
   },
   "outputs": [],
   "source": [
    "# Importing necessary libraries\n",
    "import pandas as pd\n",
    "import numpy as np\n",
    "from sklearn.model_selection import train_test_split\n",
    "from sklearn.preprocessing import OneHotEncoder\n",
    "from sklearn.compose import ColumnTransformer\n",
    "from sklearn.pipeline import Pipeline\n",
    "from sklearn.impute import SimpleImputer\n",
    "from sklearn.ensemble import RandomForestRegressor\n",
    "from sklearn.metrics import mean_absolute_error,mean_squared_error, r2_score, explained_variance_score,mean_squared_log_error"
   ]
  },
  {
   "cell_type": "markdown",
   "metadata": {
    "id": "n4c4U11QLvyR"
   },
   "source": [
    "Step 2: Load the Dataset"
   ]
  },
  {
   "cell_type": "code",
   "execution_count": 2,
   "metadata": {
    "executionInfo": {
     "elapsed": 878,
     "status": "ok",
     "timestamp": 1731746133163,
     "user": {
      "displayName": "Shubham Yadav",
      "userId": "12982005697369295270"
     },
     "user_tz": -330
    },
    "id": "1TjuMhpvMrCU"
   },
   "outputs": [],
   "source": [
    "file_path = \"../dataset/processed_data.parquet\"\n",
    "df = pd.read_parquet(file_path, engine=\"pyarrow\")"
   ]
  },
  {
   "cell_type": "markdown",
   "metadata": {
    "id": "RzyKmlxWMgMS"
   },
   "source": [
    "Step 3: Selecting relevant features for the regression model"
   ]
  },
  {
   "cell_type": "code",
   "execution_count": 3,
   "metadata": {
    "colab": {
     "base_uri": "https://localhost:8080/"
    },
    "executionInfo": {
     "elapsed": 1899,
     "status": "ok",
     "timestamp": 1731746150927,
     "user": {
      "displayName": "Shubham Yadav",
      "userId": "12982005697369295270"
     },
     "user_tz": -330
    },
    "id": "oITJhs9nM7I3",
    "outputId": "4a4ee60a-8902-40d3-c308-4215d3e0ea0f"
   },
   "outputs": [],
   "source": [
    "# Selecting relevant features for the regression model\n",
    "features = ['County', 'City', 'State', 'Postal Code', 'Model Year', 'Make', 'Model', 'Electric Vehicle Type',\n",
    "            'Fetched Range', 'Electric Range', 'Clean Alternative Fuel Vehicle (CAFV) Eligibility', \n",
    "            'Fetched Price', 'Base MSRP', 'Legislative District', 'Electric Utility']\n",
    "target = 'Max Range'\n",
    "\n",
    "X = df[features]\n",
    "y = df[target]"
   ]
  },
  {
   "cell_type": "markdown",
   "metadata": {},
   "source": [
    "Step 4: Encoding categorical variables and splitting the data"
   ]
  },
  {
   "cell_type": "code",
   "execution_count": 4,
   "metadata": {
    "executionInfo": {
     "elapsed": 911,
     "status": "ok",
     "timestamp": 1731746164221,
     "user": {
      "displayName": "Shubham Yadav",
      "userId": "12982005697369295270"
     },
     "user_tz": -330
    },
    "id": "Bo_1t5l4Zckd"
   },
   "outputs": [],
   "source": [
    "# Encoding categorical variables and splitting the data\n",
    "# Use OneHotEncoder for categorical variables and impute missing values (if any)\n",
    "categorical_features = X.select_dtypes(include=['object']).columns\n",
    "numeric_features = X.select_dtypes(include=['number']).columns\n",
    "\n",
    "# Preprocessing pipeline for numeric and categorical features\n",
    "numeric_transformer = Pipeline(steps=[\n",
    "    ('imputer', SimpleImputer(strategy='mean'))\n",
    "])\n",
    "\n",
    "categorical_transformer = Pipeline(steps=[\n",
    "    ('imputer', SimpleImputer(strategy='most_frequent')),\n",
    "    ('onehot', OneHotEncoder(handle_unknown='ignore'))\n",
    "])\n",
    "\n",
    "# Combine the transformers into a ColumnTransformer\n",
    "preprocessor = ColumnTransformer(\n",
    "    transformers=[\n",
    "        ('num', numeric_transformer, numeric_features),\n",
    "        ('cat', categorical_transformer, categorical_features)\n",
    "    ])\n"
   ]
  },
  {
   "cell_type": "markdown",
   "metadata": {},
   "source": [
    "Step 5: Model training and evaluation pipeline"
   ]
  },
  {
   "cell_type": "code",
   "execution_count": 5,
   "metadata": {
    "colab": {
     "base_uri": "https://localhost:8080/",
     "height": 570
    },
    "executionInfo": {
     "elapsed": 11223,
     "status": "ok",
     "timestamp": 1731746180298,
     "user": {
      "displayName": "Shubham Yadav",
      "userId": "12982005697369295270"
     },
     "user_tz": -330
    },
    "id": "aFN80Ay5pQBb",
    "outputId": "ea6130b5-e284-4eb8-ba51-3f577244fb53"
   },
   "outputs": [],
   "source": [
    "# Model training and evaluation pipeline\n",
    "model_pipeline = Pipeline(steps=[\n",
    "    ('preprocessor', preprocessor),\n",
    "    ('regressor', RandomForestRegressor(n_estimators=100, random_state=0))\n",
    "])\n"
   ]
  },
  {
   "cell_type": "markdown",
   "metadata": {},
   "source": [
    "Step 6: Train/test split"
   ]
  },
  {
   "cell_type": "code",
   "execution_count": 6,
   "metadata": {
    "colab": {
     "base_uri": "https://localhost:8080/",
     "height": 1000,
     "output_embedded_package_id": "1p-pJ9TB-mjwkKrXJA2b32o-vYywbDO9K"
    },
    "executionInfo": {
     "elapsed": 20616,
     "status": "ok",
     "timestamp": 1731757896970,
     "user": {
      "displayName": "Shubham Yadav",
      "userId": "12982005697369295270"
     },
     "user_tz": -330
    },
    "id": "NxHyjAo7kz3G",
    "outputId": "24b2eb16-0334-4819-8ef5-12755ebb820b"
   },
   "outputs": [],
   "source": [
    "# Train/test split\n",
    "X_train, X_test, y_train, y_test = train_test_split(X, y, test_size=0.2, random_state=0)"
   ]
  },
  {
   "cell_type": "markdown",
   "metadata": {},
   "source": [
    "Step 7: Train the model"
   ]
  },
  {
   "cell_type": "code",
   "execution_count": null,
   "metadata": {
    "colab": {
     "base_uri": "https://localhost:8080/",
     "height": 1000,
     "output_embedded_package_id": "1DwVVFJGj8RHVA3o3P36Qo-IoDYouDpEP"
    },
    "executionInfo": {
     "elapsed": 20406,
     "status": "ok",
     "timestamp": 1731738695090,
     "user": {
      "displayName": "Shubham Yadav",
      "userId": "12982005697369295270"
     },
     "user_tz": -330
    },
    "id": "y4lJZBwdlE3u",
    "outputId": "6050cdb8-a0fe-4f79-924c-a69e9c4c71e3"
   },
   "outputs": [],
   "source": [
    "# Train the model\n",
    "model_pipeline.fit(X_train, y_train)"
   ]
  },
  {
   "cell_type": "markdown",
   "metadata": {},
   "source": [
    "Step 8: Make predictions"
   ]
  },
  {
   "cell_type": "code",
   "execution_count": null,
   "metadata": {
    "colab": {
     "base_uri": "https://localhost:8080/",
     "height": 551
    },
    "executionInfo": {
     "elapsed": 29384,
     "status": "ok",
     "timestamp": 1731746612362,
     "user": {
      "displayName": "Shubham Yadav",
      "userId": "12982005697369295270"
     },
     "user_tz": -330
    },
    "id": "BpG4f-HBlEp-",
    "outputId": "71b6f818-f51a-460d-f844-1c7b03efbe5c"
   },
   "outputs": [],
   "source": [
    "# Make predictions\n",
    "y_pred = model_pipeline.predict(X_test)"
   ]
  },
  {
   "cell_type": "markdown",
   "metadata": {},
   "source": [
    "Step 9: Evaluate the Model"
   ]
  },
  {
   "cell_type": "code",
   "execution_count": null,
   "metadata": {
    "colab": {
     "base_uri": "https://localhost:8080/",
     "height": 688
    },
    "executionInfo": {
     "elapsed": 3759,
     "status": "ok",
     "timestamp": 1731759089130,
     "user": {
      "displayName": "Shubham Yadav",
      "userId": "12982005697369295270"
     },
     "user_tz": -330
    },
    "id": "qqakT7mkvoR-",
    "outputId": "b47110f9-8d67-487e-e5fc-074a70e5c312"
   },
   "outputs": [
    {
     "name": "stdout",
     "output_type": "stream",
     "text": [
      "Mean Absolute Error: 0.001304\n",
      "Mean Squared Error: 0.036696\n",
      "Root Mean Squared Error: 0.191563\n",
      "R-squared: 0.999998\n",
      "MAPE: 0.002385%\n",
      "Explained Variance: 0.999998\n",
      "MSLE: 0.000027\n",
      "Log-Cosh Loss: 0.001080\n"
     ]
    }
   ],
   "source": [
    "# Evaluate the model\n",
    "#1. Mean Absolute Error\n",
    "mae = mean_absolute_error(y_test, y_pred)\n",
    "#2. Mean Squared Error\n",
    "mse = mean_squared_error(y_test, y_pred)\n",
    "#3. Root Mean Squared Error\n",
    "rmse = np.sqrt(mse)\n",
    "#4. R-Squared\n",
    "r2 = r2_score(y_test, y_pred)\n",
    "#5. Mean Absolute Percentage Error\n",
    "mape = np.mean(np.abs((y_test - y_pred) / y_test)) * 100\n",
    "#6. Explained Variance Score\n",
    "explained_variance = explained_variance_score(y_test, y_pred)\n",
    "#7. Mean Squared Logarithmic Error\n",
    "msle = mean_squared_log_error(y_test, y_pred)\n",
    "#8. Log-Cosh Loss\n",
    "log_cosh_loss = np.mean(np.log(np.cosh(y_pred - y_test)))\n",
    "\n",
    "print(f'Mean Absolute Error: {mae:.6f}')\n",
    "print(f\"Mean Squared Error: {mse:.6f}\")\n",
    "print(f\"Root Mean Squared Error: {rmse:.6f}\")\n",
    "print(f'R-squared: {r2:.6f}')\n",
    "print(f\"MAPE: {mape:.6f}%\")\n",
    "print(f\"Explained Variance: {explained_variance:.6f}\")\n",
    "print(f\"MSLE: {msle:.6f}\")\n",
    "print(f\"Log-Cosh Loss: {log_cosh_loss:.6f}\")"
   ]
  }
 ],
 "metadata": {
  "colab": {
   "authorship_tag": "ABX9TyNiebKs800R87z/Q/GpbGip",
   "provenance": []
  },
  "kernelspec": {
   "display_name": "base",
   "language": "python",
   "name": "python3"
  },
  "language_info": {
   "codemirror_mode": {
    "name": "ipython",
    "version": 3
   },
   "file_extension": ".py",
   "mimetype": "text/x-python",
   "name": "python",
   "nbconvert_exporter": "python",
   "pygments_lexer": "ipython3",
   "version": "3.13.0"
  }
 },
 "nbformat": 4,
 "nbformat_minor": 0
}
