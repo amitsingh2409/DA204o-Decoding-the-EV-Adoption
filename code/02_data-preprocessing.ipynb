{
 "cells": [
  {
   "cell_type": "code",
   "execution_count": 1,
   "metadata": {
    "id": "8r_nLF6m0y1e"
   },
   "outputs": [],
   "source": [
    "import pandas as pd"
   ]
  },
  {
   "cell_type": "code",
   "execution_count": 2,
   "metadata": {
    "colab": {
     "base_uri": "https://localhost:8080/",
     "height": 268
    },
    "id": "0jGg85ho07kL",
    "outputId": "4d07d130-1609-4fe2-edae-5fd9e475d469"
   },
   "outputs": [
    {
     "data": {
      "text/html": [
       "<div>\n",
       "<style scoped>\n",
       "    .dataframe tbody tr th:only-of-type {\n",
       "        vertical-align: middle;\n",
       "    }\n",
       "\n",
       "    .dataframe tbody tr th {\n",
       "        vertical-align: top;\n",
       "    }\n",
       "\n",
       "    .dataframe thead th {\n",
       "        text-align: right;\n",
       "    }\n",
       "</style>\n",
       "<table border=\"1\" class=\"dataframe\">\n",
       "  <thead>\n",
       "    <tr style=\"text-align: right;\">\n",
       "      <th></th>\n",
       "      <th>Model</th>\n",
       "      <th>Electric Vehicle Type</th>\n",
       "      <th>Clean Alternative Fuel Vehicle (CAFV) Eligibility</th>\n",
       "      <th>Full Vehicle Name</th>\n",
       "      <th>Fetched Range</th>\n",
       "      <th>Electric Range</th>\n",
       "      <th>Max Range</th>\n",
       "      <th>Fetched Price</th>\n",
       "      <th>Base MSRP</th>\n",
       "      <th>Legislative District</th>\n",
       "      <th>DOL Vehicle ID</th>\n",
       "      <th>Vehicle Location</th>\n",
       "      <th>Electric Utility</th>\n",
       "      <th>2020 Census Tract</th>\n",
       "    </tr>\n",
       "  </thead>\n",
       "  <tbody>\n",
       "    <tr>\n",
       "      <th>0</th>\n",
       "      <td>X5</td>\n",
       "      <td>Plug-in Hybrid Electric Vehicle (PHEV)</td>\n",
       "      <td>Clean Alternative Fuel Vehicle Eligible</td>\n",
       "      <td>2021 BMW X5</td>\n",
       "      <td>0</td>\n",
       "      <td>30.0</td>\n",
       "      <td>30.0</td>\n",
       "      <td>60000</td>\n",
       "      <td>0.0</td>\n",
       "      <td>35.0</td>\n",
       "      <td>267929112</td>\n",
       "      <td>POINT (-122.8728334 47.5798304)</td>\n",
       "      <td>PUGET SOUND ENERGY INC</td>\n",
       "      <td>5.303509e+10</td>\n",
       "    </tr>\n",
       "    <tr>\n",
       "      <th>1</th>\n",
       "      <td>MODEL 3</td>\n",
       "      <td>Battery Electric Vehicle (BEV)</td>\n",
       "      <td>Clean Alternative Fuel Vehicle Eligible</td>\n",
       "      <td>2018 TESLA MODEL 3</td>\n",
       "      <td>322</td>\n",
       "      <td>215.0</td>\n",
       "      <td>322.0</td>\n",
       "      <td>35490</td>\n",
       "      <td>0.0</td>\n",
       "      <td>23.0</td>\n",
       "      <td>475911439</td>\n",
       "      <td>POINT (-122.6368884 47.7469547)</td>\n",
       "      <td>PUGET SOUND ENERGY INC</td>\n",
       "      <td>5.303509e+10</td>\n",
       "    </tr>\n",
       "  </tbody>\n",
       "</table>\n",
       "</div>"
      ],
      "text/plain": [
       "     Model                   Electric Vehicle Type  \\\n",
       "0       X5  Plug-in Hybrid Electric Vehicle (PHEV)   \n",
       "1  MODEL 3          Battery Electric Vehicle (BEV)   \n",
       "\n",
       "  Clean Alternative Fuel Vehicle (CAFV) Eligibility   Full Vehicle Name  \\\n",
       "0           Clean Alternative Fuel Vehicle Eligible         2021 BMW X5   \n",
       "1           Clean Alternative Fuel Vehicle Eligible  2018 TESLA MODEL 3   \n",
       "\n",
       "   Fetched Range  Electric Range  Max Range  Fetched Price  Base MSRP  \\\n",
       "0              0            30.0       30.0          60000        0.0   \n",
       "1            322           215.0      322.0          35490        0.0   \n",
       "\n",
       "   Legislative District  DOL Vehicle ID                 Vehicle Location  \\\n",
       "0                  35.0       267929112  POINT (-122.8728334 47.5798304)   \n",
       "1                  23.0       475911439  POINT (-122.6368884 47.7469547)   \n",
       "\n",
       "         Electric Utility  2020 Census Tract  \n",
       "0  PUGET SOUND ENERGY INC       5.303509e+10  \n",
       "1  PUGET SOUND ENERGY INC       5.303509e+10  "
      ]
     },
     "execution_count": 2,
     "metadata": {},
     "output_type": "execute_result"
    }
   ],
   "source": [
    "df = pd.read_parquet(\"../dataset/ev_data_cleaned.parquet\")\n",
    "df.iloc[:2, 7:]"
   ]
  },
  {
   "cell_type": "code",
   "execution_count": 3,
   "metadata": {
    "colab": {
     "base_uri": "https://localhost:8080/"
    },
    "id": "t8wCRJoh09b3",
    "outputId": "8b71cf10-6e77-458f-8b97-3d9911cec521"
   },
   "outputs": [
    {
     "name": "stdout",
     "output_type": "stream",
     "text": [
      "<class 'pandas.core.frame.DataFrame'>\n",
      "RangeIndex: 210165 entries, 0 to 210164\n",
      "Data columns (total 21 columns):\n",
      " #   Column                                             Non-Null Count   Dtype  \n",
      "---  ------                                             --------------   -----  \n",
      " 0   VIN (1-10)                                         210165 non-null  object \n",
      " 1   County                                             210161 non-null  object \n",
      " 2   City                                               210161 non-null  object \n",
      " 3   State                                              210165 non-null  object \n",
      " 4   Postal Code                                        210161 non-null  float64\n",
      " 5   Model Year                                         210165 non-null  int64  \n",
      " 6   Make                                               210165 non-null  object \n",
      " 7   Model                                              210165 non-null  object \n",
      " 8   Electric Vehicle Type                              210165 non-null  object \n",
      " 9   Clean Alternative Fuel Vehicle (CAFV) Eligibility  210165 non-null  object \n",
      " 10  Full Vehicle Name                                  210165 non-null  object \n",
      " 11  Fetched Range                                      210165 non-null  int64  \n",
      " 12  Electric Range                                     210160 non-null  float64\n",
      " 13  Max Range                                          210165 non-null  float64\n",
      " 14  Fetched Price                                      210165 non-null  int64  \n",
      " 15  Base MSRP                                          210160 non-null  float64\n",
      " 16  Legislative District                               209720 non-null  float64\n",
      " 17  DOL Vehicle ID                                     210165 non-null  int64  \n",
      " 18  Vehicle Location                                   210155 non-null  object \n",
      " 19  Electric Utility                                   210161 non-null  object \n",
      " 20  2020 Census Tract                                  210161 non-null  float64\n",
      "dtypes: float64(6), int64(4), object(11)\n",
      "memory usage: 33.7+ MB\n"
     ]
    }
   ],
   "source": [
    "df.info()"
   ]
  },
  {
   "cell_type": "code",
   "execution_count": 4,
   "metadata": {
    "colab": {
     "base_uri": "https://localhost:8080/",
     "height": 774
    },
    "id": "Ol9zLNgP0_Xm",
    "outputId": "c9e15319-f6e5-402f-d4ba-62c38825d456"
   },
   "outputs": [
    {
     "data": {
      "text/plain": [
       "VIN (1-10)                                             0\n",
       "County                                                 4\n",
       "City                                                   4\n",
       "State                                                  0\n",
       "Postal Code                                            4\n",
       "Model Year                                             0\n",
       "Make                                                   0\n",
       "Model                                                  0\n",
       "Electric Vehicle Type                                  0\n",
       "Clean Alternative Fuel Vehicle (CAFV) Eligibility      0\n",
       "Full Vehicle Name                                      0\n",
       "Fetched Range                                          0\n",
       "Electric Range                                         5\n",
       "Max Range                                              0\n",
       "Fetched Price                                          0\n",
       "Base MSRP                                              5\n",
       "Legislative District                                 445\n",
       "DOL Vehicle ID                                         0\n",
       "Vehicle Location                                      10\n",
       "Electric Utility                                       4\n",
       "2020 Census Tract                                      4\n",
       "dtype: int64"
      ]
     },
     "execution_count": 4,
     "metadata": {},
     "output_type": "execute_result"
    }
   ],
   "source": [
    "df.isnull().sum()"
   ]
  },
  {
   "cell_type": "code",
   "execution_count": 5,
   "metadata": {},
   "outputs": [
    {
     "data": {
      "text/plain": [
       "(210165, 21)"
      ]
     },
     "execution_count": 5,
     "metadata": {},
     "output_type": "execute_result"
    }
   ],
   "source": [
    "df.shape"
   ]
  },
  {
   "cell_type": "code",
   "execution_count": 6,
   "metadata": {},
   "outputs": [],
   "source": [
    "df = df.dropna(subset=[\"County\"])\n",
    "df = df.dropna(subset=[\"Electric Utility\"])\n",
    "df = df.dropna(subset=[\"Base MSRP\"])"
   ]
  },
  {
   "cell_type": "code",
   "execution_count": 7,
   "metadata": {},
   "outputs": [
    {
     "data": {
      "text/plain": [
       "VIN (1-10)                                             0\n",
       "County                                                 0\n",
       "City                                                   0\n",
       "State                                                  0\n",
       "Postal Code                                            0\n",
       "Model Year                                             0\n",
       "Make                                                   0\n",
       "Model                                                  0\n",
       "Electric Vehicle Type                                  0\n",
       "Clean Alternative Fuel Vehicle (CAFV) Eligibility      0\n",
       "Full Vehicle Name                                      0\n",
       "Fetched Range                                          0\n",
       "Electric Range                                         0\n",
       "Max Range                                              0\n",
       "Fetched Price                                          0\n",
       "Base MSRP                                              0\n",
       "Legislative District                                 441\n",
       "DOL Vehicle ID                                         0\n",
       "Vehicle Location                                       6\n",
       "Electric Utility                                       0\n",
       "2020 Census Tract                                      0\n",
       "dtype: int64"
      ]
     },
     "execution_count": 7,
     "metadata": {},
     "output_type": "execute_result"
    }
   ],
   "source": [
    "df.isnull().sum()"
   ]
  },
  {
   "cell_type": "code",
   "execution_count": 8,
   "metadata": {
    "colab": {
     "base_uri": "https://localhost:8080/"
    },
    "id": "wiDHM7xXJtYU",
    "outputId": "3d3506ca-2b5d-4037-f929-42bea2da2f35"
   },
   "outputs": [
    {
     "data": {
      "text/plain": [
       "118653"
      ]
     },
     "execution_count": 8,
     "metadata": {},
     "output_type": "execute_result"
    }
   ],
   "source": [
    "len(df[df[\"Electric Range\"] == 0])"
   ]
  },
  {
   "cell_type": "code",
   "execution_count": 9,
   "metadata": {
    "colab": {
     "base_uri": "https://localhost:8080/"
    },
    "id": "AtCD8o3WJwTd",
    "outputId": "4c426fbd-7b57-493d-e1b2-f3be67a457e4"
   },
   "outputs": [
    {
     "data": {
      "text/plain": [
       "206848"
      ]
     },
     "execution_count": 9,
     "metadata": {},
     "output_type": "execute_result"
    }
   ],
   "source": [
    "len(df[df[\"Base MSRP\"] == 0])"
   ]
  },
  {
   "cell_type": "code",
   "execution_count": 10,
   "metadata": {},
   "outputs": [],
   "source": [
    "df = df[df['Max Range'] != 0]"
   ]
  },
  {
   "cell_type": "code",
   "execution_count": 11,
   "metadata": {
    "colab": {
     "base_uri": "https://localhost:8080/"
    },
    "id": "P-5OERRiJz88",
    "outputId": "f717be58-a02c-4e52-f6ba-50e3ff2e07a9"
   },
   "outputs": [
    {
     "data": {
      "text/plain": [
       "array(['Clean Alternative Fuel Vehicle Eligible',\n",
       "       'Not eligible due to low battery range',\n",
       "       'Eligibility unknown as battery range has not been researched'],\n",
       "      dtype=object)"
      ]
     },
     "execution_count": 11,
     "metadata": {},
     "output_type": "execute_result"
    }
   ],
   "source": [
    "# Simplify the EV Type and CAFV cols\n",
    "df[\"Clean Alternative Fuel Vehicle (CAFV) Eligibility\"].unique()"
   ]
  },
  {
   "cell_type": "code",
   "execution_count": 12,
   "metadata": {
    "id": "Wn9PsdAPJ2hG"
   },
   "outputs": [],
   "source": [
    "df[\"Clean Alternative Fuel Vehicle (CAFV) Eligibility\"] = df[\n",
    "    \"Clean Alternative Fuel Vehicle (CAFV) Eligibility\"\n",
    "].apply(lambda x: False if \"Not\" in x else (False if \"unknown\" in x else True))"
   ]
  },
  {
   "cell_type": "code",
   "execution_count": 13,
   "metadata": {
    "colab": {
     "base_uri": "https://localhost:8080/"
    },
    "id": "4cktOM18J6DR",
    "outputId": "5fe077f4-cbf8-45df-bc51-c003a1cc0671"
   },
   "outputs": [
    {
     "name": "stdout",
     "output_type": "stream",
     "text": [
      "Columns before:\n",
      "Index(['VIN (1-10)', 'County', 'City', 'State', 'Postal Code', 'Model Year',\n",
      "       'Make', 'Model', 'Electric Vehicle Type',\n",
      "       'Clean Alternative Fuel Vehicle (CAFV) Eligibility',\n",
      "       'Full Vehicle Name', 'Fetched Range', 'Electric Range', 'Max Range',\n",
      "       'Fetched Price', 'Base MSRP', 'Legislative District', 'DOL Vehicle ID',\n",
      "       'Vehicle Location', 'Electric Utility', '2020 Census Tract'],\n",
      "      dtype='object')\n",
      "Columns after:\n",
      "Index(['VIN (1-10)', 'County', 'City', 'State', 'Postal Code', 'Model Year',\n",
      "       'Make', 'Model', 'Electric Vehicle Type',\n",
      "       'Clean Alternative Fuel Vehicle (CAFV) Eligibility',\n",
      "       'Full Vehicle Name', 'Fetched Range', 'Electric Range', 'Max Range',\n",
      "       'Fetched Price', 'Base MSRP', 'Legislative District',\n",
      "       'Vehicle Location', 'Electric Utility'],\n",
      "      dtype='object')\n"
     ]
    }
   ],
   "source": [
    "print(\"Columns before:\")\n",
    "print(df.columns)\n",
    "df.drop(\n",
    "    [\n",
    "        \"DOL Vehicle ID\",\n",
    "        \"2020 Census Tract\",\n",
    "    ],\n",
    "    inplace=True,\n",
    "    axis=1,\n",
    ")\n",
    "print(\"Columns after:\")\n",
    "print(df.columns)"
   ]
  },
  {
   "cell_type": "code",
   "execution_count": 14,
   "metadata": {},
   "outputs": [],
   "source": [
    "df = df.reset_index(drop=True)"
   ]
  },
  {
   "cell_type": "markdown",
   "metadata": {
    "id": "RTEeJPV1KHKL"
   },
   "source": [
    "Data after initial cleaning"
   ]
  },
  {
   "cell_type": "code",
   "execution_count": 15,
   "metadata": {
    "id": "CQQDJLxaKJRs"
   },
   "outputs": [],
   "source": [
    "df.to_parquet(\"../dataset/processed_data.parquet\")"
   ]
  }
 ],
 "metadata": {
  "colab": {
   "provenance": []
  },
  "kernelspec": {
   "display_name": "base",
   "language": "python",
   "name": "python3"
  },
  "language_info": {
   "codemirror_mode": {
    "name": "ipython",
    "version": 3
   },
   "file_extension": ".py",
   "mimetype": "text/x-python",
   "name": "python",
   "nbconvert_exporter": "python",
   "pygments_lexer": "ipython3",
   "version": "3.13.0"
  }
 },
 "nbformat": 4,
 "nbformat_minor": 0
}
