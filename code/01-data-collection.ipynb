{
 "cells": [
  {
   "cell_type": "markdown",
   "metadata": {},
   "source": [
    "# Import Required Libraries\n",
    "Import the necessary libraries, including pandas and pyarrow."
   ]
  },
  {
   "cell_type": "code",
   "execution_count": null,
   "metadata": {},
   "outputs": [],
   "source": [
    "import pandas as pd"
   ]
  },
  {
   "cell_type": "markdown",
   "metadata": {},
   "source": [
    "# Load Dataset\n",
    "Load the dataset from the 'dataset/ev_data.parquet' file using pandas."
   ]
  },
  {
   "cell_type": "code",
   "execution_count": null,
   "metadata": {},
   "outputs": [],
   "source": [
    "# Load Dataset\n",
    "file_path = 'dataset/ev_data.parquet'\n",
    "df = pd.read_parquet(file_path)\n",
    "\n",
    "# Display the first few rows of the dataframe to verify loading\n",
    "df.head()"
   ]
  },
  {
   "cell_type": "markdown",
   "metadata": {},
   "source": [
    "# Display Dataset Information\n",
    "Use the info() method to display information about the dataset, including the number of non-null values and data types."
   ]
  },
  {
   "cell_type": "code",
   "execution_count": null,
   "metadata": {},
   "outputs": [],
   "source": [
    "# Display Dataset Information\n",
    "df.info()"
   ]
  },
  {
   "cell_type": "markdown",
   "metadata": {},
   "source": [
    "# Check for Missing Values\n",
    "Check for missing values in the dataset using the isnull() method and sum() function."
   ]
  },
  {
   "cell_type": "code",
   "execution_count": null,
   "metadata": {},
   "outputs": [],
   "source": [
    "# Check for Missing Values\n",
    "missing_values = df.isnull().sum()\n",
    "missing_values"
   ]
  },
  {
   "cell_type": "markdown",
   "metadata": {},
   "source": [
    "# Summary Statistics\n",
    "Generate summary statistics for numerical columns using the describe() method."
   ]
  },
  {
   "cell_type": "code",
   "execution_count": null,
   "metadata": {},
   "outputs": [],
   "source": [
    "# Summary Statistics\n",
    "summary_statistics = df.describe()\n",
    "summary_statistics"
   ]
  },
  {
   "cell_type": "markdown",
   "metadata": {},
   "source": [
    "# Data Types and Conversion\n",
    "Ensure that columns have the correct data types and convert them if necessary using the astype() method."
   ]
  },
  {
   "cell_type": "code",
   "execution_count": null,
   "metadata": {},
   "outputs": [],
   "source": [
    "# Data Types and Conversion\n",
    "\n",
    "df['Postal Code'] = df['Postal Code'].astype(float)\n",
    "\n",
    "df['Model Year'] = df['Model Year'].astype(int)\n",
    "\n",
    "df['Electric Range'] = df['Electric Range'].astype(float)\n",
    "\n",
    "df['Base MSRP'] = df['Base MSRP'].astype(float)\n",
    "\n",
    "df['Legislative District'] = df['Legislative District'].astype(float)\n",
    "\n",
    "df['DOL Vehicle ID'] = df['DOL Vehicle ID'].astype(int)\n",
    "\n",
    "df['2020 Census Tract'] = df['2020 Census Tract'].astype(float)\n",
    "\n",
    "df.info()"
   ]
  },
  {
   "cell_type": "markdown",
   "metadata": {},
   "source": [
    "# Unique Values in Categorical Columns\n",
    "Display the unique values in each categorical column using the unique() method."
   ]
  },
  {
   "cell_type": "code",
   "execution_count": null,
   "metadata": {},
   "outputs": [],
   "source": [
    "# Unique Values in Categorical Columns\n",
    "categorical_columns = ['VIN (1-10)', 'County', 'City', 'State', 'Make', 'Model', 'EVType', 'CAFV', 'Vehicle Location', 'Electric Utility']\n",
    "\n",
    "unique_values = {col: df[col].unique() for col in categorical_columns}\n",
    "unique_values"
   ]
  }
 ],
 "metadata": {
  "language_info": {
   "name": "python"
  }
 },
 "nbformat": 4,
 "nbformat_minor": 2
}
